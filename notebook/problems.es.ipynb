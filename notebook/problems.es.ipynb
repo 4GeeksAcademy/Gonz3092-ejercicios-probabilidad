{
 "cells": [
  {
   "cell_type": "markdown",
   "id": "a41f3622",
   "metadata": {},
   "source": [
    "# Ejercicios de probabilidad"
   ]
  },
  {
   "cell_type": "markdown",
   "id": "a6bdbd89",
   "metadata": {},
   "source": [
    "## Ejercicio 1 \n",
    "\n",
    "Dos dados se lanzan una vez y se observa el total obtenido. Usa una simulación para encontrar la probabilidad estimada de que la puntuación sea mayor a 7 o un número par. Una simulación es una repetición del mismo experimento multiples veces para observar su comportamiento:\n",
    "\n",
    "- Ejecuta el experimento 1000 veces (lanza 2 dados 1000 veces, y suma el número de ambos dados).\n",
    "- Lleva ua cuenta de los números y las veces que la suma fue mayor a 7 o un número par.\n",
    "- Divide el número del paso 2 entre el número de iteraciones(1000)."
   ]
  },
  {
   "cell_type": "code",
   "execution_count": 27,
   "id": "8939d892",
   "metadata": {},
   "outputs": [
    {
     "name": "stdout",
     "output_type": "stream",
     "text": [
      "Probabilidad estimada: 0.6280\n"
     ]
    }
   ],
   "source": [
    "# TODO\n",
    "import pandas as pd\n",
    "import numpy as np\n",
    "\n",
    "def tirar_del_dado (n_lanzamientos = 1000):\n",
    "    contador = 0\n",
    "\n",
    "    for i in range(n_lanzamientos):\n",
    "        dado1 = np.random.randint(1, 6)\n",
    "        dado2 = np.random.randint(1, 6)\n",
    "\n",
    "        resultado = dado1 + dado2\n",
    "\n",
    "        if resultado > 7 or resultado % 2 == 0:\n",
    "            contador += 1\n",
    "    return contador / n_lanzamientos\n",
    "\n",
    "\n",
    "probabilidad_estimada = tirar_del_dado()\n",
    "print(f\"Probabilidad estimada: {probabilidad_estimada:.4f}\")"
   ]
  },
  {
   "cell_type": "markdown",
   "id": "55732bca",
   "metadata": {},
   "source": [
    "## Ejercicio 2\n",
    "\n",
    "Una caja contiene 10 bolas blancas, 20 bolas rojas y 30 bolas verdes. Si tomamos 5 bolas de la caja reemplazándolas (tomando una bola, anotando el color y luego regresandola a la caja). Queremos saber la probabilidad de:\n",
    "\n",
    "1. Tomar 3 blancas y 2 rojas.\n",
    "2. Todas todas del mismo color.\n",
    "\n",
    "Ejecuta el experimento 1000 veces y calcula las probabilidades que mencionadas."
   ]
  },
  {
   "cell_type": "code",
   "execution_count": 89,
   "id": "4db37479",
   "metadata": {},
   "outputs": [
    {
     "name": "stdout",
     "output_type": "stream",
     "text": [
      "0.4 %\n",
      "3.3 %\n"
     ]
    }
   ],
   "source": [
    "canicas = [\"blanca\"] * 10 + [\"roja\"] * 20 + [\"verde\"] * 30\n",
    "\n",
    "num_experimentos = 1000\n",
    "\n",
    "contador_3blancas_2rojas = 0\n",
    "contador_mismo_color = 0\n",
    "\n",
    "for i in range(num_experimentos):\n",
    "    seleccion = [np.random.choice(canicas) for i in range(5)]\n",
    "    \n",
    "    blancas = seleccion.count(\"blanca\")\n",
    "    rojas = seleccion.count(\"roja\")\n",
    "    verdes = seleccion.count(\"verde\")\n",
    "\n",
    "    if blancas == 3 and rojas == 2:\n",
    "        contador_3blancas_2rojas += 1\n",
    "    \n",
    "    if blancas == 5 or rojas == 5 or verdes == 5:\n",
    "        contador_mismo_color += 1\n",
    "\n",
    "# Calcular probabilidades\n",
    "probabilidad_3blancas_2rojas = contador_3blancas_2rojas / num_experimentos\n",
    "probabilidad_mismo_color = contador_mismo_color / num_experimentos\n",
    "\n",
    "print(round(probabilidad_3blancas_2rojas * 100, 5), \"%\")\n",
    "print(round(probabilidad_mismo_color * 100, 5), \"%\")\n"
   ]
  }
 ],
 "metadata": {
  "kernelspec": {
   "display_name": "Python 3",
   "language": "python",
   "name": "python3"
  },
  "language_info": {
   "codemirror_mode": {
    "name": "ipython",
    "version": 3
   },
   "file_extension": ".py",
   "mimetype": "text/x-python",
   "name": "python",
   "nbconvert_exporter": "python",
   "pygments_lexer": "ipython3",
   "version": "3.11.4"
  }
 },
 "nbformat": 4,
 "nbformat_minor": 5
}
